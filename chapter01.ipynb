{
 "cells": [
  {
   "cell_type": "markdown",
   "metadata": {},
   "source": [
    "# Sentiment Analysis Nuts and Bolts\n",
    "Have you ever checked the reviews or ratings of a product or a service before you purchased it? Then you have very likely came face-to-face with sentiment analysis. In this chapter, you will learn the basic structure of a sentiment analysis problem and start exploring the sentiment of movie reviews.\n",
    "\n",
    "## Welcome!\n",
    "<video controls src=\"video/video1_1.mp4\" width=720>"
   ]
  },
  {
   "cell_type": "markdown",
   "metadata": {},
   "source": [
    "## Elements of a sentiment analysis problem\n",
    "What are the three typical elements of a sentiment analysis system?\n",
    "\n",
    "**Possible Answers**\n",
    "+ Opinion, emotion, and subject. (How are opinion and emotion different?)\n",
    "+ **Opinion, subject, and opinion holder.**\n",
    "+ Emotion, polarity, and opinion. (Do opinion and emotion represent different elements?)\n",
    "+ Opinion, subject, and polarity. (Do you remember how we defined polarity?)\n",
    "\n",
    "That's correct!\n",
    "\n",
    "## How many positive and negative reviews are there?\n",
    "### Exercise\n",
    "As a first step in a sentiment analysis task, similar to other data science problems, we might want to explore the dataset in more detail.\n",
    "\n",
    "You will work with a sample of the IMDB movies reviews. A dataset called `movies` has been created for you. It is a sample of the data we saw in the slides. Feel free to explore it in the IPython Shell, calling the `.head()` method, for example.\n",
    "\n",
    "*Be aware that this exercise uses real data, and as such there is always a risk that it may contain profanity or other offensive content (in this exercise, and any following exercises that also use real data).*\n",
    "\n",
    "### Instructions\n",
    "+ Find the number of positive and negative reviews in the `movies` dataset.\n",
    "+ Find the proportion (percentage) of positive and negative reviews in the dataset."
   ]
  },
  {
   "cell_type": "code",
   "execution_count": null,
   "metadata": {},
   "outputs": [],
   "source": [
    "import pandas as pd\n",
    "movies = pd.read_csv(\"IMDB_sample.csv\")\n",
    "\n",
    "# Find the number of positive and negative reviews\n",
    "print('Number of positive and negative reviews: ', movies.label.value_counts())\n",
    "\n",
    "# Find the proportion of positive and negative reviews\n",
    "print('Proportion of positive and negative reviews: ', movies.label.value_counts() / len(movies))"
   ]
  },
  {
   "cell_type": "markdown",
   "metadata": {},
   "source": [
    "Nicely done! The `.value_counts()` method is an easy way to gain a first impression about the contents of the label column.\n",
    "\n",
    "## Longest and shortest reviews\n",
    "### Exercise\n",
    "In this exercise, you will continue to work with the `movies` dataset. You explored how many positive and negative reviews there are. Now your task is to explore the `review` column in more detail.\n",
    "\n",
    "### Instructions\n",
    "1. Use the `review` column of the `movies` dataset to find the length of the longest review.\n",
    "2. Similarly, find the length of the shortest review."
   ]
  },
  {
   "cell_type": "code",
   "execution_count": null,
   "metadata": {},
   "outputs": [],
   "source": [
    "length_reviews = movies.review.str.len()\n",
    "\n",
    "print(\"How long is the longest review?\")\n",
    "print(\"-------------------------------\")\n",
    "print(max(length_reviews))\n",
    "\n",
    "length_reviews = movies.review.str.len()\n",
    "\n",
    "print(\"\\nHow long is the longest review?\")\n",
    "print(\"-------------------------------\")\n",
    "print(min(length_reviews))"
   ]
  },
  {
   "cell_type": "markdown",
   "metadata": {},
   "source": [
    "Well done! Not only did you gain an idea about your reviews but this approach can be applied to perform other operations on character columns.\n",
    "\n",
    "## Sentiment analysis types and approaches\n",
    "<video controls src=\"video/video1_2.mp4\" width=720>"
   ]
  },
  {
   "cell_type": "markdown",
   "metadata": {},
   "source": [
    "##  Detecting the sentiment of Tale of Two Cities\n",
    "### Exercise\n",
    "In the video we saw that one type of algorithms for detecting the sentiment are based on a lexicon of predefined words and their corresponding polarity score. Your task in this exercise is to detect the sentiment, including polarity and subjectivity of a given string using such a rule-based approach and the `textblob` library in Python.\n",
    "\n",
    "You will work with the `two_cities` string. It contains the first sentence of Dickens's *Tale of Two Cities* novel. Feel free to explore it in the Shell.\n",
    "\n",
    "### Instructions\n",
    "+ Create a text blob object from the `two_cities` string.\n",
    "+ Print out the polarity and subjectivity."
   ]
  },
  {
   "cell_type": "code",
   "execution_count": null,
   "metadata": {},
   "outputs": [],
   "source": [
    "from variables import two_cities\n",
    "\n",
    "# Import the required packages\n",
    "from textblob import TextBlob\n",
    "\n",
    "# Create a textblob object  \n",
    "blob_two_cities = TextBlob(two_cities)\n",
    "\n",
    "# Print out the sentiment \n",
    "print(blob_two_cities.sentiment)"
   ]
  },
  {
   "cell_type": "markdown",
   "metadata": {},
   "source": [
    "Great job! Looking at the string, do you agree with its overall slightly positive score?\n",
    "\n",
    "## Comparing the sentiment of two strings\n",
    "### Exercise\n",
    "In this exercise, you will compare the sentiment of two different strings. A string called `annak` has been defined for you and it contains the first sentence of *Anna Karenina*. A second string called `catcher` has been created and it contains the first sentence of *The Catcher in the Rye*. Feel free to explore both in the IPython Shell.\n",
    "\n",
    "Your task is again to detect the sentiment of each string - both their polarity and subjectivity. Which one has higher sentiment score? Did you expect that to be the case?\n",
    "\n",
    "### Instructions\n",
    "+ Import the required function from the appropriate package.\n",
    "+ Create a text blob object from the `annak` string.\n",
    "+ Create a text blob from the `catcher` string as well.\n",
    "+ Print out the polarity and subjectivity of each of the created blobs."
   ]
  },
  {
   "cell_type": "code",
   "execution_count": null,
   "metadata": {},
   "outputs": [],
   "source": [
    "from variables import annak, catcher\n",
    "\n",
    "# Import the required packages\n",
    "from textblob import TextBlob\n",
    "\n",
    "# Create a textblob object \n",
    "blob_annak = TextBlob(annak)\n",
    "blob_catcher = TextBlob(catcher)\n",
    "\n",
    "# Print out the sentiment   \n",
    "print('Sentiment of annak: ', blob_annak.sentiment)\n",
    "print('Sentiment of catcher: ', blob_catcher.sentiment)"
   ]
  },
  {
   "cell_type": "markdown",
   "metadata": {},
   "source": [
    "Great job! It shouldn't be surprising that the opening sentence of *Catcher in the Rye* has a negative score, whereas the one from *Anna Karenina* has a slightly positive one.\n",
    "\n",
    "## What is the sentiment of a movie review?\n",
    "### Exercise\n",
    "In a previous exercise, you detected the sentiment of the first sentence of the *Tale of Two Cities* novel by Dickens. Now you will continue to work with the **movie reviews** dataset. Do you remember how you found the longest and shortest reviews? One of the longest reviews has been imported for you. It is called `titanic` as it discusses the Titanic movie. Feel free to explore it in the Shell.\n",
    "\n",
    "Can you calculate the polarity and subjectivity of the `titanic` string? This review is positive (i.e. has a `label` of `1`). Is the polarity score also positive?\n",
    "\n",
    "### Instructions\n",
    "+ Import the required functionality.\n",
    "+ Create a text blob object from the `titanic` string.\n",
    "+ Print out the result of its sentiment property."
   ]
  },
  {
   "cell_type": "code",
   "execution_count": null,
   "metadata": {},
   "outputs": [],
   "source": [
    "from variables import titanic\n",
    "\n",
    "# Import the required packages\n",
    "from textblob import TextBlob\n",
    "\n",
    "# Create a textblob object  \n",
    "blob_titanic = TextBlob(titanic)\n",
    "\n",
    "# Print out its sentiment  \n",
    "print(blob_titanic.sentiment)"
   ]
  },
  {
   "cell_type": "markdown",
   "metadata": {},
   "source": [
    "Well done! Did you notice that the polarity is around 0.2 and the review is classified as positive (has a label of 1)?\n",
    "\n",
    "## Let's build a word cloud!\n",
    "<video controls src=\"video/video1_3.mp4\" width=720>"
   ]
  },
  {
   "cell_type": "markdown",
   "metadata": {},
   "source": [
    "## Your first word cloud\n",
    "### Exercise\n",
    "We saw in the video that word clouds are very intuitive and a great and fast way to get a first impression on what a piece of text is talking about.\n",
    "\n",
    "In this exercise, you will build your first word cloud. A string `east_of_eden` has been defined for you. It contains one of the first sentences of John Steinbeck's novel *East of Eden*. You can inspect its contents in the IPython Shell.\n",
    "\n",
    "The `matplotlib.pyplot` package has been imported for you as `plt`.\n",
    "\n",
    "### Instructions\n",
    "1. \n",
    "\t+ Import the required package to build a word cloud.\n",
    "\t+ Generate a word cloud using the `east_of_eden` string. The background color has been specified as `white`.\n",
    "2. \n",
    "\t+ Create a figure from the word cloud object you generated in the previous step.\n",
    "\t+ Display the image."
   ]
  },
  {
   "cell_type": "code",
   "execution_count": null,
   "metadata": {},
   "outputs": [],
   "source": [
    "import matplotlib.pyplot as plt\n",
    "from variables import east_of_eden\n",
    "from wordcloud import WordCloud\n",
    "\n",
    "# Generate the word cloud from the east_of_eden string\n",
    "cloud_east_of_eden = WordCloud(background_color=\"white\").generate(east_of_eden)\n",
    "\n",
    "# Create a figure of the generated cloud\n",
    "plt.imshow(cloud_east_of_eden, interpolation='bilinear')  \n",
    "plt.axis('off')\n",
    "# Display the figure\n",
    "plt.show()"
   ]
  },
  {
   "cell_type": "markdown",
   "metadata": {},
   "source": [
    "Well done! You have successfully generated your first word cloud from a small excerpt from Steinbeck's East of Eden. Wasn't that fun?\n",
    "\n",
    "## Which words are in the word cloud?\n",
    "Let's continue with the word cloud exercises. A string called `illuminated` has been defined for you. It contains an emotionally charged quote from the book '*Everything is Illuminated*' by Jonathan Safran Foer. Generate and display a word cloud using the `illuminated` string. Note that all required packages have been imported for you.\n",
    "\n",
    "Which of the following answers contains **only** words you see in the word cloud?"
   ]
  },
  {
   "cell_type": "code",
   "execution_count": null,
   "metadata": {},
   "outputs": [],
   "source": [
    "from variables import illuminated\n",
    "\n",
    "word_cloud = WordCloud().generate(illuminated)\n",
    "plt.imshow(word_cloud)\n",
    "plt.show()"
   ]
  },
  {
   "cell_type": "markdown",
   "metadata": {},
   "source": [
    "**Possible Answers**\n",
    "+ Sad, other, happy (Do you see the word 'happy' in the cloud you generated?)\n",
    "+ Repeat, conversation, convince (How did you obtain the word 'conversation' in there?)\n",
    "+ **Day, worse, others**\n",
    "+ Know, thing, everything ('Everything' is in the title of the book but you should not see it in the word cloud.)\n",
    "\n",
    "Great work! Let's move on to building a word cloud using real data.\n",
    "\n",
    "## Word Cloud on movie reviews\n",
    "### Exercise\n",
    "You have been working with the **movie reviews** dataset. You have explored the distribution of the reviews and have seen how long the longest and the shortest reviews are. But what do positive and negative reviews talk about?\n",
    "\n",
    "In this exercise, you will practice building a word cloud of the top 100 positive reviews.\n",
    "\n",
    "What are the words that pop up? Do they make sense to you?\n",
    "\n",
    "The string `descriptions` has been created for you by concatenating the descriptions of the top 100 positive reviews. A movie-specific set of stopwords (very frequent words, such as *the*, *a/an*, *and*, which will not be very informative and we'd like to exclude from the graph) is available as `my_stopwords`. Recall that the `interpolation` argument makes the word cloud appear more smoothly.\n",
    "\n",
    "### Instructions\n",
    "+ Import the wordcloud function from the respective package.\n",
    "+ Apply the word cloud function to the `descriptions` string. Set the background color as 'white', and change the `stopwords` argument.\n",
    "+ Create a wordcloud image.\n",
    "+ Finally, do not forget to display the image."
   ]
  },
  {
   "cell_type": "code",
   "execution_count": null,
   "metadata": {},
   "outputs": [],
   "source": [
    "# Import the word cloud function  \n",
    "from wordcloud import WordCloud\n",
    "\n",
    "# Create and generate a word cloud image \n",
    "my_cloud = WordCloud(background_color='white', stopwords=my_stopwords).generate(descriptions)\n",
    "\n",
    "# Display the generated wordcloud image\n",
    "plt.imshow(my_cloud, interpolation='bilinear') \n",
    "plt.axis(\"off\")\n",
    "\n",
    "# Don't forget to show the final image\n",
    "plt.show()"
   ]
  },
  {
   "cell_type": "markdown",
   "metadata": {},
   "source": [
    "Nicely done! Which words in this sample of positive reviews pop up the most?\n",
    "\n",
    "See you in Chapter 2!"
   ]
  }
 ],
 "metadata": {
  "kernelspec": {
   "display_name": "Python 3",
   "language": "python",
   "name": "python3"
  },
  "language_info": {
   "codemirror_mode": {
    "name": "ipython",
    "version": 3
   },
   "file_extension": ".py",
   "mimetype": "text/x-python",
   "name": "python",
   "nbconvert_exporter": "python",
   "pygments_lexer": "ipython3",
   "version": "3.7.6"
  }
 },
 "nbformat": 4,
 "nbformat_minor": 4
}
